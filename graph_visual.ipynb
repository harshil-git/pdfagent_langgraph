{
 "cells": [
  {
   "cell_type": "code",
   "execution_count": 1,
   "metadata": {},
   "outputs": [
    {
     "name": "stderr",
     "output_type": "stream",
     "text": [
      "/Users/harshilgohil/python/Langgraph/Agentic_RAG/langenv/lib/python3.11/site-packages/tqdm/auto.py:21: TqdmWarning: IProgress not found. Please update jupyter and ipywidgets. See https://ipywidgets.readthedocs.io/en/stable/user_install.html\n",
      "  from .autonotebook import tqdm as notebook_tqdm\n"
     ]
    }
   ],
   "source": [
    "from langgraph.graph import StateGraph, END\n",
    "from query_handler import query_documents\n",
    "from re_ranker import ranker"
   ]
  },
  {
   "cell_type": "code",
   "execution_count": 2,
   "metadata": {},
   "outputs": [],
   "source": [
    "# State definition\n",
    "class QAState(dict):\n",
    "    question: str\n",
    "    documents: list\n",
    "    answer: str\n",
    "    metrics: dict\n",
    "    attempts: int\n",
    "\n",
    "\n",
    "# Nodes\n",
    "def retrieve_node(state: QAState):\n",
    "    docs = query_documents(state[\"question\"],persist_directory=\"./chroma_db\", collection_name=\"pdf_collection\",k=5)\n",
    "    print(\"Chroma searched para : \",end=\"\\n\\n\")\n",
    "    print(docs)\n",
    "    return {**state, \"documents\": docs}\n",
    "\n",
    "\n",
    "def rerank_node(state: QAState):\n",
    "    docs = ranker(state[\"question\"], state[\"documents\"])\n",
    "    return {**state, \"documents\": docs}\n",
    "\n",
    "\n",
    "def generate_node(state: QAState):\n",
    "    context = \"\\n\\n\".join([f\"{d}\" for d in state[\"documents\"]])\n",
    "    prompt = f\"Answer strictly from the following documents:\\n{context}\\n\\nQ: {state['question']}\\nA:\"\n",
    "    response = llm.invoke(prompt)\n",
    "    return {**state, \"answer\": response.content}\n",
    "\n",
    "\n",
    "def self_check_node(state: QAState):\n",
    "    judge_prompt = f\"Does the answer below stay grounded in the provided documents? Answer YES/NO. \\n\\n Documents: {state['documents']} \\n\\nAnswer: {state['answer']}\"\n",
    "    judge = llm.invoke(judge_prompt)\n",
    "    grounded = \"YES\" in judge.content.upper()\n",
    "    return {**state, \"metrics\": {\"grounded\": grounded}, \"attempts\": state.get(\"attempts\", 0) + 1}"
   ]
  },
  {
   "cell_type": "code",
   "execution_count": 3,
   "metadata": {},
   "outputs": [],
   "source": [
    "workflow = StateGraph(QAState)\n",
    "workflow.add_node(\"retrieve\", retrieve_node)\n",
    "workflow.add_node(\"rerank\", rerank_node)\n",
    "workflow.add_node(\"generate\", generate_node)\n",
    "workflow.add_node(\"self_check\", self_check_node)\n",
    "\n",
    "workflow.set_entry_point(\"retrieve\")\n",
    "workflow.add_edge(\"retrieve\", \"rerank\")\n",
    "workflow.add_edge(\"rerank\", \"generate\")\n",
    "workflow.add_edge(\"generate\", \"self_check\")\n",
    "\n",
    "def conditional(state: QAState):\n",
    "    if not state[\"metrics\"][\"grounded\"] and state[\"attempts\"] < 2:\n",
    "        return \"retrieve\"\n",
    "    return END   \n",
    "\n",
    "workflow.add_conditional_edges(\"self_check\", conditional, {\"retrieve\": \"retrieve\", END: END})\n",
    "graph = workflow.compile()"
   ]
  },
  {
   "cell_type": "code",
   "execution_count": 4,
   "metadata": {},
   "outputs": [
    {
     "data": {
      "image/png": "[encoded data removed]",
      "text/plain": [
       "<IPython.core.display.Image object>"
      ]
     },
     "metadata": {},
     "output_type": "display_data"
    }
   ],
   "source": [
    "from IPython.display import Image, display\n",
    "\n",
    "display(Image(graph.get_graph().draw_mermaid_png()))"
   ]
  },
  {
   "cell_type": "code",
   "execution_count": null,
   "metadata": {},
   "outputs": [],
   "source": []
  }
 ],
 "metadata": {
  "kernelspec": {
   "display_name": "langenv",
   "language": "python",
   "name": "python3"
  },
  "language_info": {
   "codemirror_mode": {
    "name": "ipython",
    "version": 3
   },
   "file_extension": ".py",
   "mimetype": "text/x-python",
   "name": "python",
   "nbconvert_exporter": "python",
   "pygments_lexer": "ipython3",
   "version": "3.11.7"
  }
 },
 "nbformat": 4,
 "nbformat_minor": 2
}
